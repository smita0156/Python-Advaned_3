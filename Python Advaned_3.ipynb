{
 "cells": [
  {
   "cell_type": "code",
   "execution_count": null,
   "id": "0b5585a8-af34-4050-99bd-1ca5bb5dc34e",
   "metadata": {},
   "outputs": [],
   "source": [
    "1. What is the concept of an abstract superclass?"
   ]
  },
  {
   "cell_type": "code",
   "execution_count": null,
   "id": "e52aaaa2-4d42-48d1-bac5-0db17477bee3",
   "metadata": {},
   "outputs": [],
   "source": [
    "Abstraction is implemented using the abstract classes. An abstract class in Python is typically created to declare a set of methods that must be created in any child class built on top of this abstract class. Similarly, an abstract method is one that doesn't have any implementation."
   ]
  },
  {
   "cell_type": "code",
   "execution_count": null,
   "id": "fb5afa60-e76c-42a5-bfce-69ac646b82dd",
   "metadata": {},
   "outputs": [],
   "source": [
    "Abstraction in python is defined as a process of handling complexity by hiding unnecessary information from the user. This is one of the core concepts of object-oriented programming (OOP) languages."
   ]
  },
  {
   "cell_type": "code",
   "execution_count": null,
   "id": "933fd6fb-57bb-4f45-ad07-9290123dbf73",
   "metadata": {},
   "outputs": [],
   "source": [
    "3. Why does a class need to manually call a superclass&#39;s __init__ method?"
   ]
  },
  {
   "cell_type": "code",
   "execution_count": null,
   "id": "94da2f87-c795-4d64-b617-852d8a5b99d6",
   "metadata": {},
   "outputs": [],
   "source": [
    "If the __init__ method of a superclass is not called during object initialization it is likely that that object will end up in an incorrect state."
   ]
  },
  {
   "cell_type": "code",
   "execution_count": null,
   "id": "7acd3b44-04bc-41a9-8bf3-425cf324cefe",
   "metadata": {},
   "outputs": [],
   "source": [
    "The __init__ function is used to set everything up when you create an instance of the class, so users of class B will assume that this has been done and if not, then it may produce bugs or side effects the user does not understand."
   ]
  },
  {
   "cell_type": "code",
   "execution_count": null,
   "id": "2d0fc054-1b81-483e-87df-9c62e1f32696",
   "metadata": {},
   "outputs": [],
   "source": [
    "4. How can you augment, instead of completely replacing, an inherited method?"
   ]
  },
  {
   "cell_type": "code",
   "execution_count": null,
   "id": "78fc947b-cfa8-431d-839c-ab3ddf4b183d",
   "metadata": {},
   "outputs": [],
   "source": [
    "A more sophisticated way to augment an inherited method involves forwarding. Message forwarding allows you to augment an inherited method in such a way that it can perform its inherited action and some new action."
   ]
  },
  {
   "cell_type": "code",
   "execution_count": null,
   "id": "14fca66f-a866-4772-9658-adfa840d9b01",
   "metadata": {},
   "outputs": [],
   "source": [
    "5. How is the local scope of a class different from that of a function?"
   ]
  },
  {
   "cell_type": "code",
   "execution_count": null,
   "id": "c7a70754-4746-40d5-987a-258944cfef9e",
   "metadata": {},
   "outputs": [],
   "source": [
    "Local scope just refers to the scope available to a given variable, but function scope would refer to variables inside a function. Here var x is inside a function, so it's only accessible inside the function."
   ]
  },
  {
   "cell_type": "code",
   "execution_count": null,
   "id": "94923431-7064-4079-ba58-1be7eda7c100",
   "metadata": {},
   "outputs": [],
   "source": []
  }
 ],
 "metadata": {
  "kernelspec": {
   "display_name": "Python 3 (ipykernel)",
   "language": "python",
   "name": "python3"
  },
  "language_info": {
   "codemirror_mode": {
    "name": "ipython",
    "version": 3
   },
   "file_extension": ".py",
   "mimetype": "text/x-python",
   "name": "python",
   "nbconvert_exporter": "python",
   "pygments_lexer": "ipython3",
   "version": "3.10.6"
  }
 },
 "nbformat": 4,
 "nbformat_minor": 5
}
